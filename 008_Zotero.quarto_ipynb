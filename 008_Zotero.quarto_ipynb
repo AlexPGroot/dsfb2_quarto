{
  "cells": [
    {
      "cell_type": "markdown",
      "metadata": {},
      "source": [
        "---\n",
        "title: \"Your Research Paper Title\"\n",
        "author:\n",
        "  - name: \"Alex Groot\"\n",
        "    affiliation: \"Hogeschool Utrecht\"\n",
        "    email: \"alex_groot@icloud.com\"\n",
        "date: \"2024-12-08\"\n",
        "format:\n",
        "  html:\n",
        "    journal: elsevier\n",
        "    toc: true\n",
        "    css: css/008_Zotero.css\n",
        "---\n",
        "\n",
        "```{bash}\n",
        "#| eval: false\n",
        "tail -n +17 008_Zotero.qmd | wc -w\n",
        "```\n",
        "\n",
        "\n",
        "\n",
        "\n",
        "# Zotero\n",
        "\n",
        "\n",
        "## testing\n"
      ],
      "id": "9beeafc6"
    }
  ],
  "metadata": {
    "kernelspec": {
      "display_name": "Python 3",
      "language": "python",
      "name": "python3"
    }
  },
  "nbformat": 4,
  "nbformat_minor": 5
}