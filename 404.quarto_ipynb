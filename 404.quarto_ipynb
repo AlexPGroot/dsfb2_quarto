{
  "cells": [
    {
      "cell_type": "markdown",
      "metadata": {},
      "source": [
        "---\n",
        "title: \"Page Not Found\"\n",
        "format:\n",
        "  html:\n",
        "    toc: false\n",
        "---\n",
        "\n",
        "```{html}\n",
        " <style>\n",
        "body {\n",
        "  background-image: url('images/404.png');\n",
        "  background-repeat: round;\n",
        "}\n",
        "</style> \n",
        "\n",
        "<br>\n",
        "Return to <a href=\"https://alexpgroot.github.io/index.html\"> Index </a>\n",
        "```"
      ],
      "id": "c5c4eac5"
    }
  ],
  "metadata": {
    "kernelspec": {
      "display_name": "Python 3",
      "language": "python",
      "name": "python3"
    }
  },
  "nbformat": 4,
  "nbformat_minor": 5
}